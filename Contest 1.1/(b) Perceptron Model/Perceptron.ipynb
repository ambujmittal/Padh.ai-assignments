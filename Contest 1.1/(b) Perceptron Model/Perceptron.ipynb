{
 "cells": [
  {
   "cell_type": "code",
   "execution_count": 5,
   "metadata": {
    "_uuid": "811f6baec3f2c9415d951b6d5c5c97eb091215f8"
   },
   "outputs": [],
   "source": [
    "import numpy as np\n",
    "import pandas as pd\n",
    "import matplotlib.pyplot as plt\n",
    "from sklearn.preprocessing import LabelEncoder,MinMaxScaler, StandardScaler\n",
    "from sklearn.model_selection import train_test_split, ParameterGrid\n",
    "from sklearn.metrics import accuracy_score, confusion_matrix, mean_squared_error, log_loss\n",
    "import operator\n",
    "import json\n",
    "from IPython import display\n",
    "import os\n",
    "import warnings\n",
    "\n",
    "np.random.seed(0)\n",
    "warnings.filterwarnings(\"ignore\")\n",
    "THRESHOLD = 4"
   ]
  },
  {
   "cell_type": "markdown",
   "metadata": {
    "_uuid": "1dcacefc7bc09a04ce77218eff6698a967684c77"
   },
   "source": [
    "Task: To predict whether the user likes the mobile phone or not. <br>\n",
    "Assumption: If the average rating of mobile >= threshold, then the user likes it, otherwise not."
   ]
  },
  {
   "cell_type": "markdown",
   "metadata": {
    "_uuid": "7690154f645f70224c5717b7bf1830a6ca439b56"
   },
   "source": [
    "<b>Missing values:</b><br>\n",
    "'Also Known As'(459),'Applications'(421),'Audio Features'(437),'Bezel-less display'(266),'Browser'(449),'Build Material'(338),'Co-Processor'(451),'Display Colour'(457),'Mobile High-Definition Link(MHL)'(472),'Music'(447)\n",
    "'Email','Fingerprint Sensor Position'(174),'Games'(446),'HDMI'(454),'Heart Rate Monitor'(467),'IRIS Scanner'(467),\n",
    "'Optical Image Stabilisation'(219),'Other Facilities'(444),'Phone Book'(444),'Physical Aperture'(87),'Quick Charging'(122),'Ring Tone'(444),'Ruggedness'(430),SAR Value(315),'SIM 3'(472),'SMS'(470)', 'Screen Protection'(229),'Screen to Body Ratio (claimed by the brand)'(428),'Sensor'(242),'Software Based Aperture'(473),\n",
    "'Special Features'(459),'Standby time'(334),'Stylus'(473),'TalkTime'(259), 'USB Type-C'(374),'Video Player'(456),\n",
    "'Video Recording Features'(458),'Waterproof'(398),'Wireless Charging','USB OTG Support'(159), 'Video ,'Recording'(113),'Java'(471),'Browser'(448)\n",
    "\n",
    "<b>Very low variance:</b><br>\n",
    "'Architecture'(most entries are 64-bit),'Audio Jack','GPS','Loudspeaker','Network','Network Support','Other Sensors'(28),'SIM Size', 'VoLTE'\n",
    "\n",
    "\n",
    "<b>Multivalued:</b><br>\n",
    "'Colours','Custom UI','Model'(1),'Other Sensors','Launch Date'\n",
    "\n",
    "<b>Not important:</b><br>\n",
    "'Bluetooth', 'Settings'(75),'Wi-Fi','Wi-Fi Features'\n",
    "\n",
    "<b>Doubtful:</b><br>\n",
    "'Aspect Ratio','Autofocus','Brand','Camera Features','Fingerprint Sensor'(very few entries are missing),\n",
    "'Fingerprint Sensor Position', 'Graphics'(multivalued),'Image resolution'(multivalued),'SIM Size','Sim Slot(s)', 'User Available Storage', 'SIM 1', 'SIM 2','Shooting Modes', 'Touch Screen'(24), 'USB Connectivity'\n",
    "    \n",
    "<b>To check:</b><br>\n",
    "'Display Type','Expandable Memory','FM Radio'\n",
    "\n",
    "<b>High Correlation with other features</b><br>\n",
    "'SIM Slot(s)' high correlation with SIM1\n",
    "'Weight' has high high correlation with capacity , screen-to-body ratio\n",
    "'Height' - screen size is also there\n",
    "    \n",
    "<b>Given a mobile, we can't directly get these features</b><br>\n",
    "'Rating Count', 'Review Count'\n",
    "\n",
    "<b>Keeping:</b><br>\n",
    "'Capacity','Flash'(17),'Height'(22),'Internal Memory'(20, require cleaning),'Operating System'(25, require cleaning), 'Pixel Density'(1, clean it),'Processor'(22, clean it), 'RAM'(17, clean), 'Rating','Resolution'(cleaning), 'Screen Resolution','Screen Size', 'Thickness'(22), 'Type','User Replaceable','Weight'(cleaning),'Sim Size'(), 'Other Sensors'(28), 'Screen to Body Ratio (calculated)','Width',\n"
   ]
  },
  {
   "cell_type": "code",
   "execution_count": 6,
   "metadata": {
    "_uuid": "2174ad4130a342dcd5c4708feb75f19b4db53865"
   },
   "outputs": [
    {
     "name": "stdout",
     "output_type": "stream",
     "text": [
      "Number of data points in train: 355\n",
      "Number of features in train: 99\n",
      "Number of data points in test: 119\n",
      "Number of features in test: 98\n"
     ]
    }
   ],
   "source": [
    "# read data from file\n",
    "train = pd.read_csv(\"train.csv\") \n",
    "test = pd.read_csv(\"test.csv\")\n",
    "\n",
    "# check the number of features and data points in train\n",
    "print(\"Number of data points in train: %d\" % train.shape[0])\n",
    "print(\"Number of features in train: %d\" % train.shape[1])\n",
    "\n",
    "# check the number of features and data points in test\n",
    "print(\"Number of data points in test: %d\" % test.shape[0])\n",
    "print(\"Number of features in test: %d\" % test.shape[1])"
   ]
  },
  {
   "cell_type": "code",
   "execution_count": 7,
   "metadata": {
    "_uuid": "4dca7c98d46221a319fa6b6154058da7d4f1dad0"
   },
   "outputs": [],
   "source": [
    "def data_clean(data):\n",
    "    \n",
    "    # Let's first remove all missing value features\n",
    "    columns_to_remove = ['Also Known As','Applications','Audio Features','Bezel-less display'\n",
    "                         'Browser','Build Material','Co-Processor','Browser'\n",
    "                         'Display Colour','Mobile High-Definition Link(MHL)',\n",
    "                         'Music', 'Email','Fingerprint Sensor Position',\n",
    "                         'Games','HDMI','Heart Rate Monitor','IRIS Scanner', \n",
    "                         'Optical Image Stabilisation','Other Facilities',\n",
    "                         'Phone Book','Physical Aperture','Quick Charging',\n",
    "                         'Ring Tone','Ruggedness','SAR Value','SIM 3','SMS',\n",
    "                         'Screen Protection','Screen to Body Ratio (claimed by the brand)',\n",
    "                         'Sensor','Software Based Aperture', 'Special Features',\n",
    "                         'Standby time','Stylus','TalkTime', 'USB Type-C',\n",
    "                         'Video Player', 'Video Recording Features','Waterproof',\n",
    "                         'Wireless Charging','USB OTG Support', 'Video Recording','Java']\n",
    "\n",
    "    columns_to_retain = list(set(data.columns)-set(columns_to_remove))\n",
    "    data = data[columns_to_retain]\n",
    "\n",
    "    #Features having very low variance \n",
    "    columns_to_remove = ['Architecture','Audio Jack','GPS','Loudspeaker','Network','Network Support','VoLTE']\n",
    "    columns_to_retain = list(set(data.columns)-set(columns_to_remove))\n",
    "    data = data[columns_to_retain]\n",
    "\n",
    "    # Multivalued:\n",
    "    columns_to_remove = ['Architecture','Launch Date','Audio Jack','GPS','Loudspeaker','Network','Network Support','VoLTE', 'Custom UI']\n",
    "    columns_to_retain = list(set(data.columns)-set(columns_to_remove))\n",
    "    data = data[columns_to_retain]\n",
    "\n",
    "    # Not much important\n",
    "    columns_to_remove = ['Bluetooth', 'Settings','Wi-Fi','Wi-Fi Features']\n",
    "    columns_to_retain = list(set(data.columns)-set(columns_to_remove))\n",
    "    data = data[columns_to_retain]\n",
    "    \n",
    "    return data"
   ]
  },
  {
   "cell_type": "markdown",
   "metadata": {
    "_uuid": "14cde0f83b7307b1566ba340d4fd81d93b439e7c"
   },
   "source": [
    "# Removing features"
   ]
  },
  {
   "cell_type": "code",
   "execution_count": 8,
   "metadata": {
    "_uuid": "ebe29c21de87be9b6c6524f0dab298c030bb5701"
   },
   "outputs": [],
   "source": [
    "train = data_clean(train)\n",
    "test = data_clean(test)"
   ]
  },
  {
   "cell_type": "markdown",
   "metadata": {
    "_uuid": "664877150aa7cc4110cfb060797ac3e147b6d295"
   },
   "source": [
    "removing all those data points in which more than 15 features are missing "
   ]
  },
  {
   "cell_type": "code",
   "execution_count": 9,
   "metadata": {
    "_uuid": "972e275ec560edca91341323b6f0b167b830abcc"
   },
   "outputs": [],
   "source": [
    "train = train[(train.isnull().sum(axis=1) <= 15)]\n",
    "# You shouldn't remove data points from test set\n",
    "#test = test[(test.isnull().sum(axis=1) <= 15)]"
   ]
  },
  {
   "cell_type": "code",
   "execution_count": 10,
   "metadata": {
    "_uuid": "a48db0b6b3c1cc41cdb002c6593773fb1e71f9b1"
   },
   "outputs": [
    {
     "name": "stdout",
     "output_type": "stream",
     "text": [
      "Number of data points in train: 341\n",
      "Number of features in train: 47\n",
      "Number of data points in test: 119\n",
      "Number of features in test: 46\n"
     ]
    }
   ],
   "source": [
    "# check the number of features and data points in train\n",
    "print(\"Number of data points in train: %d\" % train.shape[0])\n",
    "print(\"Number of features in train: %d\" % train.shape[1])\n",
    "\n",
    "# check the number of features and data points in test\n",
    "print(\"Number of data points in test: %d\" % test.shape[0])\n",
    "print(\"Number of features in test: %d\" % test.shape[1])"
   ]
  },
  {
   "cell_type": "markdown",
   "metadata": {
    "_uuid": "e9e8ce447831957d5ce3f18bc7175f9a42be162f"
   },
   "source": [
    "# Filling Missing values"
   ]
  },
  {
   "cell_type": "code",
   "execution_count": 11,
   "metadata": {
    "_uuid": "84a03ebef664502315242472d5fd08b268954569"
   },
   "outputs": [],
   "source": [
    "def for_integer(test):\n",
    "    try:\n",
    "        test = test.strip()\n",
    "        return int(test.split(' ')[0])\n",
    "    except IOError:\n",
    "           pass\n",
    "    except ValueError:\n",
    "        pass\n",
    "    except:\n",
    "        pass\n",
    "\n",
    "def for_string(test):\n",
    "    try:\n",
    "        test = test.strip()\n",
    "        return (test.split(' ')[0])\n",
    "    except IOError:\n",
    "        pass\n",
    "    except ValueError:\n",
    "        pass\n",
    "    except:\n",
    "        pass\n",
    "\n",
    "def for_float(test):\n",
    "    try:\n",
    "        test = test.strip()\n",
    "        return float(test.split(' ')[0])\n",
    "    except IOError:\n",
    "        pass\n",
    "    except ValueError:\n",
    "        pass\n",
    "    except:\n",
    "        pass\n",
    "def find_freq(test):\n",
    "    try:\n",
    "        test = test.strip()\n",
    "        test = test.split(' ')\n",
    "        if test[2][0] == '(':\n",
    "            return float(test[2][1:])\n",
    "        return float(test[2])\n",
    "    except IOError:\n",
    "        pass\n",
    "    except ValueError:\n",
    "        pass\n",
    "    except:\n",
    "        pass\n",
    "\n",
    "    \n",
    "def for_Internal_Memory(test):\n",
    "    try:\n",
    "        test = test.strip()\n",
    "        test = test.split(' ')\n",
    "        if test[1] == 'GB':\n",
    "            return int(test[0])\n",
    "        if test[1] == 'MB':\n",
    "#             print(\"here\")\n",
    "            return (int(test[0]) * 0.001)\n",
    "    except IOError:\n",
    "           pass\n",
    "    except ValueError:\n",
    "        pass\n",
    "    except:\n",
    "        pass\n",
    "    \n",
    "def find_freq(test):\n",
    "    try:\n",
    "        test = test.strip()\n",
    "        test = test.split(' ')\n",
    "        if test[2][0] == '(':\n",
    "            return float(test[2][1:])\n",
    "        return float(test[2])\n",
    "    except IOError:\n",
    "        pass\n",
    "    except ValueError:\n",
    "        pass\n",
    "    except:\n",
    "        pass\n"
   ]
  },
  {
   "cell_type": "code",
   "execution_count": 12,
   "metadata": {
    "_uuid": "5d164649d0a53def9a959ec4d8632a965d4cc6ff"
   },
   "outputs": [],
   "source": [
    "def data_clean_2(x):\n",
    "    data = x.copy()\n",
    "    \n",
    "    data['Capacity'] = data['Capacity'].apply(for_integer)\n",
    "\n",
    "    data['Height'] = data['Height'].apply(for_float)\n",
    "    data['Height'] = data['Height'].fillna(data['Height'].mean())\n",
    "\n",
    "    data['Internal Memory'] = data['Internal Memory'].apply(for_Internal_Memory)\n",
    "\n",
    "    data['Pixel Density'] = data['Pixel Density'].apply(for_integer)\n",
    "\n",
    "    data['Internal Memory'] = data['Internal Memory'].fillna(data['Internal Memory'].median())\n",
    "    data['Internal Memory'] = data['Internal Memory'].astype(int)\n",
    "\n",
    "    data['RAM'] = data['RAM'].apply(for_integer)\n",
    "    data['RAM'] = data['RAM'].fillna(data['RAM'].median())\n",
    "    data['RAM'] = data['RAM'].astype(int)\n",
    "\n",
    "    data['Resolution'] = data['Resolution'].apply(for_integer)\n",
    "    data['Resolution'] = data['Resolution'].fillna(data['Resolution'].median())\n",
    "    data['Resolution'] = data['Resolution'].astype(int)\n",
    "\n",
    "    data['Screen Size'] = data['Screen Size'].apply(for_float)\n",
    "\n",
    "    data['Thickness'] = data['Thickness'].apply(for_float)\n",
    "    data['Thickness'] = data['Thickness'].fillna(data['Thickness'].mean())\n",
    "    data['Thickness'] = data['Thickness'].round(2)\n",
    "\n",
    "    data['Type'] = data['Type'].fillna('Li-Polymer')\n",
    "\n",
    "    data['Screen to Body Ratio (calculated)'] = data['Screen to Body Ratio (calculated)'].apply(for_float)\n",
    "    data['Screen to Body Ratio (calculated)'] = data['Screen to Body Ratio (calculated)'].fillna(data['Screen to Body Ratio (calculated)'].mean())\n",
    "    data['Screen to Body Ratio (calculated)'] = data['Screen to Body Ratio (calculated)'].round(2)\n",
    "\n",
    "    data['Width'] = data['Width'].apply(for_float)\n",
    "    data['Width'] = data['Width'].fillna(data['Width'].mean())\n",
    "    data['Width'] = data['Width'].round(2)\n",
    "\n",
    "    data['Flash'][data['Flash'].isna() == True] = \"Other\"\n",
    "\n",
    "    data['User Replaceable'][data['User Replaceable'].isna() == True] = \"Other\"\n",
    "\n",
    "    data['Num_cores'] = data['Processor'].apply(for_string)\n",
    "    data['Num_cores'][data['Num_cores'].isna() == True] = \"Other\"\n",
    "\n",
    "\n",
    "    data['Processor_frequency'] = data['Processor'].apply(find_freq)\n",
    "    #because there is one entry with 208MHz values, to convert it to GHz\n",
    "    data['Processor_frequency'][data['Processor_frequency'] > 200] = 0.208\n",
    "    data['Processor_frequency'] = data['Processor_frequency'].fillna(data['Processor_frequency'].mean())\n",
    "    data['Processor_frequency'] = data['Processor_frequency'].round(2)\n",
    "\n",
    "    data['Camera Features'][data['Camera Features'].isna() == True] = \"Other\"\n",
    "\n",
    "    #simplifyig Operating System to os_name for simplicity\n",
    "    data['os_name'] = data['Operating System'].apply(for_string)\n",
    "    data['os_name'][data['os_name'].isna() == True] = \"Other\"\n",
    "\n",
    "    data['Sim1'] = data['SIM 1'].apply(for_string)\n",
    "\n",
    "    data['SIM Size'][data['SIM Size'].isna() == True] = \"Other\"\n",
    "\n",
    "    data['Image Resolution'][data['Image Resolution'].isna() == True] = \"Other\"\n",
    "\n",
    "    data['Fingerprint Sensor'][data['Fingerprint Sensor'].isna() == True] = \"Other\"\n",
    "\n",
    "    data['Expandable Memory'][data['Expandable Memory'].isna() == True] = \"No\"\n",
    "\n",
    "    data['Weight'] = data['Weight'].apply(for_integer)\n",
    "    data['Weight'] = data['Weight'].fillna(data['Weight'].mean())\n",
    "    data['Weight'] = data['Weight'].astype(int)\n",
    "\n",
    "    data['SIM 2'] = data['SIM 2'].apply(for_string)\n",
    "    data['SIM 2'][data['SIM 2'].isna() == True] = \"Other\"\n",
    "    \n",
    "    return data"
   ]
  },
  {
   "cell_type": "code",
   "execution_count": 13,
   "metadata": {
    "_uuid": "5fcc0249883340b97465df266eecc9899dfb5d51"
   },
   "outputs": [
    {
     "name": "stdout",
     "output_type": "stream",
     "text": [
      "Number of data points in train: 341\n",
      "Number of features in train: 51\n",
      "Number of data points in test: 119\n",
      "Number of features in test: 50\n"
     ]
    }
   ],
   "source": [
    "train = data_clean_2(train)\n",
    "test = data_clean_2(test)\n",
    "\n",
    "# check the number of features and data points in train\n",
    "print(\"Number of data points in train: %d\" % train.shape[0])\n",
    "print(\"Number of features in train: %d\" % train.shape[1])\n",
    "\n",
    "# check the number of features and data points in test\n",
    "print(\"Number of data points in test: %d\" % test.shape[0])\n",
    "print(\"Number of features in test: %d\" % test.shape[1])"
   ]
  },
  {
   "cell_type": "markdown",
   "metadata": {
    "_uuid": "61e57485f5ef6334f2a5dd127d5acf5e5ecd0587"
   },
   "source": [
    "Not very important feature"
   ]
  },
  {
   "cell_type": "code",
   "execution_count": 14,
   "metadata": {
    "_uuid": "4b50553fa563b8d8c2d9958af0f14ebbe2ef1ea5"
   },
   "outputs": [],
   "source": [
    "def data_clean_3(x):\n",
    "    \n",
    "    data = x.copy()\n",
    "\n",
    "    columns_to_remove = ['User Available Storage','SIM Size','Chipset','Processor','Autofocus','Aspect Ratio','Touch Screen',\n",
    "                        'Bezel-less display','Operating System','SIM 1','USB Connectivity','Other Sensors','Graphics','FM Radio',\n",
    "                        'NFC','Shooting Modes','Browser','Display Colour' ]\n",
    "\n",
    "    columns_to_retain = list(set(data.columns)-set(columns_to_remove))\n",
    "    data = data[columns_to_retain]\n",
    "\n",
    "\n",
    "    columns_to_remove = [ 'Screen Resolution','User Replaceable','Camera Features',\n",
    "                        'Thickness', 'Display Type']\n",
    "\n",
    "    columns_to_retain = list(set(data.columns)-set(columns_to_remove))\n",
    "    data = data[columns_to_retain]\n",
    "\n",
    "\n",
    "    columns_to_remove = ['Fingerprint Sensor', 'Flash', 'Rating Count', 'Review Count','Image Resolution','Type','Expandable Memory',\\\n",
    "                        'Colours','Width','Model']\n",
    "    columns_to_retain = list(set(data.columns)-set(columns_to_remove))\n",
    "    data = data[columns_to_retain]\n",
    "\n",
    "    return data"
   ]
  },
  {
   "cell_type": "code",
   "execution_count": 15,
   "metadata": {
    "_uuid": "37d4a1960ed31c1e58c8d4012f7dc2ddeca8b303"
   },
   "outputs": [
    {
     "name": "stdout",
     "output_type": "stream",
     "text": [
      "Number of data points in train: 341\n",
      "Number of features in train: 18\n",
      "Number of data points in test: 119\n",
      "Number of features in test: 17\n"
     ]
    }
   ],
   "source": [
    "train = data_clean_3(train)\n",
    "test = data_clean_3(test)\n",
    "\n",
    "# check the number of features and data points in train\n",
    "print(\"Number of data points in train: %d\" % train.shape[0])\n",
    "print(\"Number of features in train: %d\" % train.shape[1])\n",
    "\n",
    "# check the number of features and data points in test\n",
    "print(\"Number of data points in test: %d\" % test.shape[0])\n",
    "print(\"Number of features in test: %d\" % test.shape[1])"
   ]
  },
  {
   "cell_type": "code",
   "execution_count": 16,
   "metadata": {
    "_uuid": "a7b1874ae1cbf2e90985b0db7821502c4a02f0a1"
   },
   "outputs": [
    {
     "name": "stdout",
     "output_type": "stream",
     "text": [
      "(460, 17)\n",
      "Index(['PhoneId', 'SIM 2', 'Brand', 'Internal Memory', 'Pixel Density', 'RAM',\n",
      "       'Height', 'os_name', 'Num_cores', 'Sim1', 'Screen Size', 'Capacity',\n",
      "       'SIM Slot(s)', 'Resolution', 'Screen to Body Ratio (calculated)',\n",
      "       'Processor_frequency', 'Weight'],\n",
      "      dtype='object')\n",
      "(460, 87)\n",
      "Index(['PhoneId', 'Internal Memory', 'Pixel Density', 'RAM', 'Height',\n",
      "       'Screen Size', 'Capacity', 'Resolution',\n",
      "       'Screen to Body Ratio (calculated)', 'Processor_frequency', 'Weight',\n",
      "       'SIM 2_2G', 'SIM 2_3G', 'SIM 2_4G', 'SIM 2_Other', 'Brand_10.or',\n",
      "       'Brand_Apple', 'Brand_Asus', 'Brand_Billion', 'Brand_Blackberry',\n",
      "       'Brand_Comio', 'Brand_Coolpad', 'Brand_Do', 'Brand_Gionee',\n",
      "       'Brand_Google', 'Brand_HTC', 'Brand_Honor', 'Brand_Huawei',\n",
      "       'Brand_InFocus', 'Brand_Infinix', 'Brand_Intex', 'Brand_Itel',\n",
      "       'Brand_Jivi', 'Brand_Karbonn', 'Brand_LG', 'Brand_Lava', 'Brand_LeEco',\n",
      "       'Brand_Lenovo', 'Brand_Lephone', 'Brand_Lyf', 'Brand_Meizu',\n",
      "       'Brand_Micromax', 'Brand_Mobiistar', 'Brand_Moto', 'Brand_Motorola',\n",
      "       'Brand_Nokia', 'Brand_Nubia', 'Brand_OPPO', 'Brand_OnePlus',\n",
      "       'Brand_Oppo', 'Brand_Panasonic', 'Brand_Razer', 'Brand_Realme',\n",
      "       'Brand_Reliance', 'Brand_Samsung', 'Brand_Sony', 'Brand_Spice',\n",
      "       'Brand_Tecno', 'Brand_Ulefone', 'Brand_VOTO', 'Brand_Vivo',\n",
      "       'Brand_Xiaomi', 'Brand_Xiaomi Poco', 'Brand_Yu', 'Brand_iVooMi',\n",
      "       'os_name_Android', 'os_name_Blackberry', 'os_name_KAI', 'os_name_Nokia',\n",
      "       'os_name_Other', 'os_name_Tizen', 'os_name_iOS', 'Num_cores_312',\n",
      "       'Num_cores_Deca', 'Num_cores_Dual', 'Num_cores_Hexa', 'Num_cores_Octa',\n",
      "       'Num_cores_Other', 'Num_cores_Quad', 'Num_cores_Tru-Octa', 'Sim1_2G',\n",
      "       'Sim1_3G', 'Sim1_4G', 'SIM Slot(s)_Dual SIM, GSM+CDMA',\n",
      "       'SIM Slot(s)_Dual SIM, GSM+GSM',\n",
      "       'SIM Slot(s)_Dual SIM, GSM+GSM, Dual VoLTE',\n",
      "       'SIM Slot(s)_Single SIM, GSM'],\n",
      "      dtype='object')\n"
     ]
    }
   ],
   "source": [
    "# one hot encoding\n",
    "\n",
    "train_ids = train['PhoneId']\n",
    "test_ids = test['PhoneId']\n",
    "\n",
    "cols = list(test.columns)\n",
    "cols.remove('PhoneId')\n",
    "cols.insert(0, 'PhoneId')\n",
    "\n",
    "combined = pd.concat([train.drop('Rating', axis=1)[cols], test[cols]])\n",
    "print(combined.shape)\n",
    "print(combined.columns)\n",
    "\n",
    "combined = pd.get_dummies(combined)\n",
    "print(combined.shape)\n",
    "print(combined.columns)\n",
    "\n",
    "train_new = combined[combined['PhoneId'].isin(train_ids)]\n",
    "test_new = combined[combined['PhoneId'].isin(test_ids)]"
   ]
  },
  {
   "cell_type": "code",
   "execution_count": 17,
   "metadata": {
    "_uuid": "593cd9cb1852fe380eea8976fc16ab4914f8938f"
   },
   "outputs": [],
   "source": [
    "train_new = train_new.merge(train[['PhoneId', 'Rating']], on='PhoneId')"
   ]
  },
  {
   "cell_type": "code",
   "execution_count": 18,
   "metadata": {
    "_uuid": "71d66aa7e21d0141e7fd62412a24ede12ae299ab"
   },
   "outputs": [
    {
     "name": "stdout",
     "output_type": "stream",
     "text": [
      "Number of data points in train: 341\n",
      "Number of features in train: 88\n",
      "Number of data points in test: 119\n",
      "Number of features in test: 87\n"
     ]
    }
   ],
   "source": [
    "# check the number of features and data points in train\n",
    "print(\"Number of data points in train: %d\" % train_new.shape[0])\n",
    "print(\"Number of features in train: %d\" % train_new.shape[1])\n",
    "\n",
    "# check the number of features and data points in test\n",
    "print(\"Number of data points in test: %d\" % test_new.shape[0])\n",
    "print(\"Number of features in test: %d\" % test_new.shape[1])"
   ]
  },
  {
   "cell_type": "code",
   "execution_count": 19,
   "metadata": {
    "_uuid": "c02ea654180ab623c4f1987b9aa8504ec9f8cdbe"
   },
   "outputs": [
    {
     "data": {
      "text/html": [
       "<div>\n",
       "<style scoped>\n",
       "    .dataframe tbody tr th:only-of-type {\n",
       "        vertical-align: middle;\n",
       "    }\n",
       "\n",
       "    .dataframe tbody tr th {\n",
       "        vertical-align: top;\n",
       "    }\n",
       "\n",
       "    .dataframe thead th {\n",
       "        text-align: right;\n",
       "    }\n",
       "</style>\n",
       "<table border=\"1\" class=\"dataframe\">\n",
       "  <thead>\n",
       "    <tr style=\"text-align: right;\">\n",
       "      <th></th>\n",
       "      <th>PhoneId</th>\n",
       "      <th>Internal Memory</th>\n",
       "      <th>Pixel Density</th>\n",
       "      <th>RAM</th>\n",
       "      <th>Height</th>\n",
       "      <th>Screen Size</th>\n",
       "      <th>Capacity</th>\n",
       "      <th>Resolution</th>\n",
       "      <th>Screen to Body Ratio (calculated)</th>\n",
       "      <th>Processor_frequency</th>\n",
       "      <th>...</th>\n",
       "      <th>Num_cores_Quad</th>\n",
       "      <th>Num_cores_Tru-Octa</th>\n",
       "      <th>Sim1_2G</th>\n",
       "      <th>Sim1_3G</th>\n",
       "      <th>Sim1_4G</th>\n",
       "      <th>SIM Slot(s)_Dual SIM, GSM+CDMA</th>\n",
       "      <th>SIM Slot(s)_Dual SIM, GSM+GSM</th>\n",
       "      <th>SIM Slot(s)_Dual SIM, GSM+GSM, Dual VoLTE</th>\n",
       "      <th>SIM Slot(s)_Single SIM, GSM</th>\n",
       "      <th>Rating</th>\n",
       "    </tr>\n",
       "  </thead>\n",
       "  <tbody>\n",
       "    <tr>\n",
       "      <th>0</th>\n",
       "      <td>0</td>\n",
       "      <td>64</td>\n",
       "      <td>403</td>\n",
       "      <td>4</td>\n",
       "      <td>157.9</td>\n",
       "      <td>6.26</td>\n",
       "      <td>4000</td>\n",
       "      <td>20</td>\n",
       "      <td>80.68</td>\n",
       "      <td>1.8</td>\n",
       "      <td>...</td>\n",
       "      <td>0</td>\n",
       "      <td>0</td>\n",
       "      <td>0</td>\n",
       "      <td>0</td>\n",
       "      <td>1</td>\n",
       "      <td>0</td>\n",
       "      <td>0</td>\n",
       "      <td>1</td>\n",
       "      <td>0</td>\n",
       "      <td>4.5</td>\n",
       "    </tr>\n",
       "    <tr>\n",
       "      <th>1</th>\n",
       "      <td>1</td>\n",
       "      <td>32</td>\n",
       "      <td>271</td>\n",
       "      <td>3</td>\n",
       "      <td>156.2</td>\n",
       "      <td>6.20</td>\n",
       "      <td>4230</td>\n",
       "      <td>8</td>\n",
       "      <td>80.85</td>\n",
       "      <td>1.8</td>\n",
       "      <td>...</td>\n",
       "      <td>0</td>\n",
       "      <td>0</td>\n",
       "      <td>0</td>\n",
       "      <td>0</td>\n",
       "      <td>1</td>\n",
       "      <td>0</td>\n",
       "      <td>0</td>\n",
       "      <td>1</td>\n",
       "      <td>0</td>\n",
       "      <td>4.5</td>\n",
       "    </tr>\n",
       "    <tr>\n",
       "      <th>2</th>\n",
       "      <td>2</td>\n",
       "      <td>32</td>\n",
       "      <td>409</td>\n",
       "      <td>3</td>\n",
       "      <td>157.0</td>\n",
       "      <td>6.30</td>\n",
       "      <td>3500</td>\n",
       "      <td>25</td>\n",
       "      <td>83.68</td>\n",
       "      <td>2.1</td>\n",
       "      <td>...</td>\n",
       "      <td>0</td>\n",
       "      <td>0</td>\n",
       "      <td>0</td>\n",
       "      <td>0</td>\n",
       "      <td>1</td>\n",
       "      <td>0</td>\n",
       "      <td>0</td>\n",
       "      <td>1</td>\n",
       "      <td>0</td>\n",
       "      <td>4.4</td>\n",
       "    </tr>\n",
       "    <tr>\n",
       "      <th>3</th>\n",
       "      <td>4</td>\n",
       "      <td>64</td>\n",
       "      <td>411</td>\n",
       "      <td>4</td>\n",
       "      <td>159.8</td>\n",
       "      <td>6.00</td>\n",
       "      <td>3300</td>\n",
       "      <td>24</td>\n",
       "      <td>74.78</td>\n",
       "      <td>2.2</td>\n",
       "      <td>...</td>\n",
       "      <td>0</td>\n",
       "      <td>0</td>\n",
       "      <td>0</td>\n",
       "      <td>0</td>\n",
       "      <td>1</td>\n",
       "      <td>0</td>\n",
       "      <td>1</td>\n",
       "      <td>0</td>\n",
       "      <td>0</td>\n",
       "      <td>4.3</td>\n",
       "    </tr>\n",
       "    <tr>\n",
       "      <th>4</th>\n",
       "      <td>5</td>\n",
       "      <td>64</td>\n",
       "      <td>396</td>\n",
       "      <td>4</td>\n",
       "      <td>160.4</td>\n",
       "      <td>6.50</td>\n",
       "      <td>3750</td>\n",
       "      <td>16</td>\n",
       "      <td>84.23</td>\n",
       "      <td>2.2</td>\n",
       "      <td>...</td>\n",
       "      <td>0</td>\n",
       "      <td>0</td>\n",
       "      <td>0</td>\n",
       "      <td>0</td>\n",
       "      <td>1</td>\n",
       "      <td>0</td>\n",
       "      <td>0</td>\n",
       "      <td>1</td>\n",
       "      <td>0</td>\n",
       "      <td>4.4</td>\n",
       "    </tr>\n",
       "  </tbody>\n",
       "</table>\n",
       "<p>5 rows × 88 columns</p>\n",
       "</div>"
      ],
      "text/plain": [
       "   PhoneId  Internal Memory  Pixel Density  RAM  Height  Screen Size  \\\n",
       "0        0               64            403    4   157.9         6.26   \n",
       "1        1               32            271    3   156.2         6.20   \n",
       "2        2               32            409    3   157.0         6.30   \n",
       "3        4               64            411    4   159.8         6.00   \n",
       "4        5               64            396    4   160.4         6.50   \n",
       "\n",
       "   Capacity  Resolution  Screen to Body Ratio (calculated)  \\\n",
       "0      4000          20                              80.68   \n",
       "1      4230           8                              80.85   \n",
       "2      3500          25                              83.68   \n",
       "3      3300          24                              74.78   \n",
       "4      3750          16                              84.23   \n",
       "\n",
       "   Processor_frequency   ...    Num_cores_Quad  Num_cores_Tru-Octa  Sim1_2G  \\\n",
       "0                  1.8   ...                 0                   0        0   \n",
       "1                  1.8   ...                 0                   0        0   \n",
       "2                  2.1   ...                 0                   0        0   \n",
       "3                  2.2   ...                 0                   0        0   \n",
       "4                  2.2   ...                 0                   0        0   \n",
       "\n",
       "   Sim1_3G  Sim1_4G  SIM Slot(s)_Dual SIM, GSM+CDMA  \\\n",
       "0        0        1                               0   \n",
       "1        0        1                               0   \n",
       "2        0        1                               0   \n",
       "3        0        1                               0   \n",
       "4        0        1                               0   \n",
       "\n",
       "   SIM Slot(s)_Dual SIM, GSM+GSM  SIM Slot(s)_Dual SIM, GSM+GSM, Dual VoLTE  \\\n",
       "0                              0                                          1   \n",
       "1                              0                                          1   \n",
       "2                              0                                          1   \n",
       "3                              1                                          0   \n",
       "4                              0                                          1   \n",
       "\n",
       "   SIM Slot(s)_Single SIM, GSM  Rating  \n",
       "0                            0     4.5  \n",
       "1                            0     4.5  \n",
       "2                            0     4.4  \n",
       "3                            0     4.3  \n",
       "4                            0     4.4  \n",
       "\n",
       "[5 rows x 88 columns]"
      ]
     },
     "execution_count": 19,
     "metadata": {},
     "output_type": "execute_result"
    }
   ],
   "source": [
    "train_new.head()"
   ]
  },
  {
   "cell_type": "code",
   "execution_count": 20,
   "metadata": {
    "_uuid": "870252b662b772c25157059cd41bc67d1037ec92"
   },
   "outputs": [
    {
     "data": {
      "text/html": [
       "<div>\n",
       "<style scoped>\n",
       "    .dataframe tbody tr th:only-of-type {\n",
       "        vertical-align: middle;\n",
       "    }\n",
       "\n",
       "    .dataframe tbody tr th {\n",
       "        vertical-align: top;\n",
       "    }\n",
       "\n",
       "    .dataframe thead th {\n",
       "        text-align: right;\n",
       "    }\n",
       "</style>\n",
       "<table border=\"1\" class=\"dataframe\">\n",
       "  <thead>\n",
       "    <tr style=\"text-align: right;\">\n",
       "      <th></th>\n",
       "      <th>PhoneId</th>\n",
       "      <th>Internal Memory</th>\n",
       "      <th>Pixel Density</th>\n",
       "      <th>RAM</th>\n",
       "      <th>Height</th>\n",
       "      <th>Screen Size</th>\n",
       "      <th>Capacity</th>\n",
       "      <th>Resolution</th>\n",
       "      <th>Screen to Body Ratio (calculated)</th>\n",
       "      <th>Processor_frequency</th>\n",
       "      <th>...</th>\n",
       "      <th>Num_cores_Other</th>\n",
       "      <th>Num_cores_Quad</th>\n",
       "      <th>Num_cores_Tru-Octa</th>\n",
       "      <th>Sim1_2G</th>\n",
       "      <th>Sim1_3G</th>\n",
       "      <th>Sim1_4G</th>\n",
       "      <th>SIM Slot(s)_Dual SIM, GSM+CDMA</th>\n",
       "      <th>SIM Slot(s)_Dual SIM, GSM+GSM</th>\n",
       "      <th>SIM Slot(s)_Dual SIM, GSM+GSM, Dual VoLTE</th>\n",
       "      <th>SIM Slot(s)_Single SIM, GSM</th>\n",
       "    </tr>\n",
       "  </thead>\n",
       "  <tbody>\n",
       "    <tr>\n",
       "      <th>0</th>\n",
       "      <td>3</td>\n",
       "      <td>16</td>\n",
       "      <td>271</td>\n",
       "      <td>2</td>\n",
       "      <td>156.2</td>\n",
       "      <td>6.20</td>\n",
       "      <td>4230</td>\n",
       "      <td>5</td>\n",
       "      <td>80.85</td>\n",
       "      <td>1.8</td>\n",
       "      <td>...</td>\n",
       "      <td>0</td>\n",
       "      <td>0</td>\n",
       "      <td>0</td>\n",
       "      <td>0</td>\n",
       "      <td>0</td>\n",
       "      <td>1</td>\n",
       "      <td>0</td>\n",
       "      <td>0</td>\n",
       "      <td>1</td>\n",
       "      <td>0</td>\n",
       "    </tr>\n",
       "    <tr>\n",
       "      <th>1</th>\n",
       "      <td>11</td>\n",
       "      <td>64</td>\n",
       "      <td>402</td>\n",
       "      <td>4</td>\n",
       "      <td>156.0</td>\n",
       "      <td>6.20</td>\n",
       "      <td>5000</td>\n",
       "      <td>12</td>\n",
       "      <td>81.60</td>\n",
       "      <td>1.8</td>\n",
       "      <td>...</td>\n",
       "      <td>0</td>\n",
       "      <td>0</td>\n",
       "      <td>0</td>\n",
       "      <td>0</td>\n",
       "      <td>0</td>\n",
       "      <td>1</td>\n",
       "      <td>0</td>\n",
       "      <td>0</td>\n",
       "      <td>1</td>\n",
       "      <td>0</td>\n",
       "    </tr>\n",
       "    <tr>\n",
       "      <th>2</th>\n",
       "      <td>13</td>\n",
       "      <td>64</td>\n",
       "      <td>409</td>\n",
       "      <td>6</td>\n",
       "      <td>156.7</td>\n",
       "      <td>6.30</td>\n",
       "      <td>3500</td>\n",
       "      <td>25</td>\n",
       "      <td>83.84</td>\n",
       "      <td>2.0</td>\n",
       "      <td>...</td>\n",
       "      <td>0</td>\n",
       "      <td>0</td>\n",
       "      <td>0</td>\n",
       "      <td>0</td>\n",
       "      <td>0</td>\n",
       "      <td>1</td>\n",
       "      <td>0</td>\n",
       "      <td>0</td>\n",
       "      <td>1</td>\n",
       "      <td>0</td>\n",
       "    </tr>\n",
       "    <tr>\n",
       "      <th>3</th>\n",
       "      <td>16</td>\n",
       "      <td>64</td>\n",
       "      <td>409</td>\n",
       "      <td>4</td>\n",
       "      <td>156.7</td>\n",
       "      <td>6.30</td>\n",
       "      <td>3500</td>\n",
       "      <td>16</td>\n",
       "      <td>83.84</td>\n",
       "      <td>2.0</td>\n",
       "      <td>...</td>\n",
       "      <td>0</td>\n",
       "      <td>0</td>\n",
       "      <td>0</td>\n",
       "      <td>0</td>\n",
       "      <td>0</td>\n",
       "      <td>1</td>\n",
       "      <td>0</td>\n",
       "      <td>0</td>\n",
       "      <td>1</td>\n",
       "      <td>0</td>\n",
       "    </tr>\n",
       "    <tr>\n",
       "      <th>4</th>\n",
       "      <td>19</td>\n",
       "      <td>64</td>\n",
       "      <td>403</td>\n",
       "      <td>4</td>\n",
       "      <td>158.6</td>\n",
       "      <td>5.99</td>\n",
       "      <td>4000</td>\n",
       "      <td>20</td>\n",
       "      <td>77.43</td>\n",
       "      <td>1.8</td>\n",
       "      <td>...</td>\n",
       "      <td>0</td>\n",
       "      <td>0</td>\n",
       "      <td>0</td>\n",
       "      <td>0</td>\n",
       "      <td>0</td>\n",
       "      <td>1</td>\n",
       "      <td>0</td>\n",
       "      <td>0</td>\n",
       "      <td>1</td>\n",
       "      <td>0</td>\n",
       "    </tr>\n",
       "  </tbody>\n",
       "</table>\n",
       "<p>5 rows × 87 columns</p>\n",
       "</div>"
      ],
      "text/plain": [
       "   PhoneId  Internal Memory  Pixel Density  RAM  Height  Screen Size  \\\n",
       "0        3               16            271    2   156.2         6.20   \n",
       "1       11               64            402    4   156.0         6.20   \n",
       "2       13               64            409    6   156.7         6.30   \n",
       "3       16               64            409    4   156.7         6.30   \n",
       "4       19               64            403    4   158.6         5.99   \n",
       "\n",
       "   Capacity  Resolution  Screen to Body Ratio (calculated)  \\\n",
       "0      4230           5                              80.85   \n",
       "1      5000          12                              81.60   \n",
       "2      3500          25                              83.84   \n",
       "3      3500          16                              83.84   \n",
       "4      4000          20                              77.43   \n",
       "\n",
       "   Processor_frequency             ...               Num_cores_Other  \\\n",
       "0                  1.8             ...                             0   \n",
       "1                  1.8             ...                             0   \n",
       "2                  2.0             ...                             0   \n",
       "3                  2.0             ...                             0   \n",
       "4                  1.8             ...                             0   \n",
       "\n",
       "   Num_cores_Quad  Num_cores_Tru-Octa  Sim1_2G  Sim1_3G  Sim1_4G  \\\n",
       "0               0                   0        0        0        1   \n",
       "1               0                   0        0        0        1   \n",
       "2               0                   0        0        0        1   \n",
       "3               0                   0        0        0        1   \n",
       "4               0                   0        0        0        1   \n",
       "\n",
       "   SIM Slot(s)_Dual SIM, GSM+CDMA  SIM Slot(s)_Dual SIM, GSM+GSM  \\\n",
       "0                               0                              0   \n",
       "1                               0                              0   \n",
       "2                               0                              0   \n",
       "3                               0                              0   \n",
       "4                               0                              0   \n",
       "\n",
       "   SIM Slot(s)_Dual SIM, GSM+GSM, Dual VoLTE  SIM Slot(s)_Single SIM, GSM  \n",
       "0                                          1                            0  \n",
       "1                                          1                            0  \n",
       "2                                          1                            0  \n",
       "3                                          1                            0  \n",
       "4                                          1                            0  \n",
       "\n",
       "[5 rows x 87 columns]"
      ]
     },
     "execution_count": 20,
     "metadata": {},
     "output_type": "execute_result"
    }
   ],
   "source": [
    "test_new.head()"
   ]
  },
  {
   "cell_type": "code",
   "execution_count": 21,
   "metadata": {
    "_uuid": "7bce3f3aad62b5efac043883d07f366fbf475334"
   },
   "outputs": [],
   "source": [
    "#Binarisation of output\n",
    "train_new['Rating'] = train_new['Rating'].map(lambda x: 0 if x < 4.1 else 1)"
   ]
  },
  {
   "cell_type": "code",
   "execution_count": 22,
   "metadata": {
    "_uuid": "758df8890ceec192b01852c0fcf0599b867329c9"
   },
   "outputs": [],
   "source": [
    "X_train = train_new.drop(['Rating', 'PhoneId'], axis = 1).values\n",
    "X_test = test_new.drop('PhoneId', axis = 1).values\n",
    "Y_train = train_new['Rating'].values"
   ]
  },
  {
   "cell_type": "code",
   "execution_count": 23,
   "metadata": {
    "_uuid": "2423fb2b940bf6ebc3dc46485db6304af4e05e29"
   },
   "outputs": [],
   "source": [
    "#Scaling\n",
    "scaler = StandardScaler()  \n",
    "scaler.fit(X_train)\n",
    "X_train = scaler.transform(X_train)  \n",
    "X_test = scaler.transform(X_test)"
   ]
  },
  {
   "cell_type": "code",
   "execution_count": 24,
   "metadata": {
    "_uuid": "659ad8d3027004eb0b264e46a6b78f715bd3d815"
   },
   "outputs": [],
   "source": [
    "#Implementing the model\n",
    "from sklearn.metrics import accuracy_score\n",
    "class Perceptron:\n",
    "  \n",
    "  def __init__ (self):\n",
    "    self.w = None\n",
    "    self.b = None\n",
    "    \n",
    "  def model(self, x):\n",
    "    return 1 if (np.dot(self.w, x) >= self.b) else 0\n",
    "    \n",
    "  def predict(self, X):\n",
    "    Y = []\n",
    "    for x in X:\n",
    "      result = self.model(x)\n",
    "      Y.append(result)\n",
    "    return np.array(Y)\n",
    "    \n",
    "  def fit(self, X, Y, epochs , lr):\n",
    "    \n",
    "    self.w = np.ones(X.shape[1])\n",
    "    self.b = 0\n",
    "    \n",
    "    accuracy = {}\n",
    "    max_accuracy = 0\n",
    "    \n",
    "    for i in range(epochs):\n",
    "      for x, y in zip(X, Y):\n",
    "        y_pred = self.model(x)\n",
    "        if y == 1 and y_pred == 0:\n",
    "          self.w = self.w + lr * x\n",
    "          self.b = self.b - lr * 1\n",
    "        elif y == 0 and y_pred == 1:\n",
    "          self.w = self.w - lr * x\n",
    "          self.b = self.b + lr * 1\n",
    "              \n",
    "          \n",
    "      accuracy[i] = accuracy_score(self.predict(X), Y)\n",
    "      if (accuracy[i] > max_accuracy):\n",
    "        max_accuracy = accuracy[i]\n",
    "        chkptw = self.w\n",
    "        chkptb = self.b\n",
    "        \n",
    "    self.w = chkptw\n",
    "    self.b = chkptb\n",
    "    \n",
    "    #plt.plot(accuracy.values())\n",
    "    #plt.ylim([0, 1])\n",
    "    #plt.show()\n",
    "    return max_accuracy"
   ]
  },
  {
   "cell_type": "code",
   "execution_count": 25,
   "metadata": {
    "_uuid": "00457b784ea27996d442f4eef7ef028447d62c5e"
   },
   "outputs": [],
   "source": [
    "Model = Perceptron()\n",
    "# max_accuracy_dict = {}\n",
    "# for i in range(100,5100,500):\n",
    "#   for j in [0.001, 0.005, 0.01, 0.05, 0.1, 0.5, 1]:\n",
    "#         accuracy = Model.fit(X_train, Y_train, i, j)\n",
    "#         if accuracy in max_accuracy_dict:\n",
    "#             max_accuracy_dict[accuracy] += (\" Epochs: \"+ str(i)+ \" Learning Rate: \"+ str(j))\n",
    "#         else:\n",
    "#             max_accuracy_dict[accuracy] = (\"Epochs: \"+ str(i) +\" Learning Rate: \"+ str(j))"
   ]
  },
  {
   "cell_type": "code",
   "execution_count": 26,
   "metadata": {
    "_uuid": "931c2895e1a945aad3d39ea5b4e579d7c18479df"
   },
   "outputs": [],
   "source": [
    "# key_max = max(max_accuracy_dict, key = int)\n",
    "# print(\"Max accuracy: \")\n",
    "# print(key_max,\" : \",max_accuracy_dict[key_max])\n",
    "    \n",
    "#for key in max_accuracy_dict.keys():\n",
    "#    print(key, \":\", max_accuracy_dict[key])"
   ]
  },
  {
   "cell_type": "code",
   "execution_count": 27,
   "metadata": {
    "_uuid": "b202c27886c52959feb066921805316c040372a7"
   },
   "outputs": [
    {
     "data": {
      "text/plain": [
       "0.8563049853372434"
      ]
     },
     "execution_count": 27,
     "metadata": {},
     "output_type": "execute_result"
    }
   ],
   "source": [
    "Model.fit(X_train, Y_train, 100, 0.001)"
   ]
  },
  {
   "cell_type": "code",
   "execution_count": 28,
   "metadata": {
    "_uuid": "105bae01b0703ec2e5168f9eecc4cb9f4ebb443c"
   },
   "outputs": [
    {
     "data": {
      "text/plain": [
       "array([1, 1, 1, 1, 1, 1, 1, 0, 1, 1, 1, 1, 0, 1, 1, 1, 1, 1, 1, 1, 1, 1,\n",
       "       1, 0, 1, 1, 1, 1, 0, 1, 1, 0, 0, 1, 1, 1, 0, 0, 1, 1, 0, 0, 1, 0,\n",
       "       1, 0, 1, 0, 0, 1, 0, 0, 1, 1, 1, 0, 1, 0, 1, 1, 0, 0, 0, 0, 0, 1,\n",
       "       1, 1, 1, 1, 0, 1, 1, 0, 0, 0, 0, 0, 1, 1, 0, 0, 1, 0, 0, 0, 1, 1,\n",
       "       1, 0, 0, 1, 0, 1, 1, 0, 0, 0, 0, 0, 1, 0, 0, 0, 0, 0, 0, 0, 0, 1,\n",
       "       0, 1, 1, 0, 0, 1, 1, 0, 0])"
      ]
     },
     "execution_count": 28,
     "metadata": {},
     "output_type": "execute_result"
    }
   ],
   "source": [
    "Y_pred = Model.predict(X_test)\n",
    "Y_pred"
   ]
  },
  {
   "cell_type": "code",
   "execution_count": 29,
   "metadata": {
    "_uuid": "981eff48cc4f2ecb152c15f6aff37c80491398bd"
   },
   "outputs": [],
   "source": [
    "submission = pd.DataFrame({'PhoneId':test_new['PhoneId'], 'Class':Y_pred})\n",
    "submission = submission[['PhoneId', 'Class']]"
   ]
  },
  {
   "cell_type": "code",
   "execution_count": 30,
   "metadata": {
    "_uuid": "e0d08a25dfd7159118eb7405d2de9d6323a60ced"
   },
   "outputs": [],
   "source": [
    "submission.to_csv(\"submission.csv\", index=False)"
   ]
  }
 ],
 "metadata": {
  "kernelspec": {
   "display_name": "Python 3",
   "language": "python",
   "name": "python3"
  },
  "language_info": {
   "codemirror_mode": {
    "name": "ipython",
    "version": 3
   },
   "file_extension": ".py",
   "mimetype": "text/x-python",
   "name": "python",
   "nbconvert_exporter": "python",
   "pygments_lexer": "ipython3",
   "version": "3.6.4"
  }
 },
 "nbformat": 4,
 "nbformat_minor": 1
}
